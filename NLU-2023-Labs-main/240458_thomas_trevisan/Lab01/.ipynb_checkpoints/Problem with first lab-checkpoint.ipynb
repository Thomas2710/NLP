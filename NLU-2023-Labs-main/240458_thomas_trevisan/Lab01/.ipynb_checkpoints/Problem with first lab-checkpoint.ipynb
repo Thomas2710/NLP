{
 "cells": [
  {
   "cell_type": "code",
   "execution_count": 7,
   "id": "29968949",
   "metadata": {},
   "outputs": [
    {
     "name": "stderr",
     "output_type": "stream",
     "text": [
      "[nltk_data] Downloading package gutenberg to /home/thomas/nltk_data...\n",
      "[nltk_data]   Package gutenberg is already up-to-date!\n",
      "[nltk_data] Downloading package punkt to /home/thomas/nltk_data...\n",
      "[nltk_data]   Package punkt is already up-to-date!\n"
     ]
    },
    {
     "name": "stdout",
     "output_type": "stream",
     "text": [
      "chars length:  468220\n",
      "\n",
      "chars length computed from chars per word:  376446\n",
      "chars_per_sent_1 computed from word_lens  205\n",
      "\n",
      "chars length computed from chars per sent:  464761\n",
      "chars_per_sent_2 computed from chars_in_sent  253\n"
     ]
    }
   ],
   "source": [
    "import nltk\n",
    "import numpy as np\n",
    "import spacy\n",
    "import en_core_web_sm\n",
    "from collections import Counter\n",
    "nltk.download('gutenberg')\n",
    "nltk.download('punkt')\n",
    "\n",
    "nltk.corpus.gutenberg.fileids()\n",
    "\n",
    "\n",
    "corpus = 'milton-paradise.txt'\n",
    "\n",
    "chars = nltk.corpus.gutenberg.raw(corpus)\n",
    "\n",
    "corpus_words = nltk.corpus.gutenberg.words(corpus)\n",
    "\n",
    "corpus_sents = nltk.corpus.gutenberg.sents(corpus)\n",
    "\n",
    "\n",
    "\n",
    "words = nltk.word_tokenize(chars)\n",
    "sents = nltk.sent_tokenize(chars)\n",
    "\n",
    "\n",
    "##Computing statistics\n",
    "total_chars = len(chars)\n",
    "total_words = len(words)\n",
    "total_sents = len(sents)\n",
    "word_lens = [len(word) for word in words]\n",
    "sent_lens = [len(sentence) for sentence in sents]\n",
    "#chars_in_sents = [sum(len(word) for word in sent) for sent in sents]\n",
    "chars_in_sents = [len(''.join(sent)) for sent in sents]\n",
    "    \n",
    "##PROBLEM HERE\n",
    "word_per_sent = round(len(words) / len(sents))\n",
    "char_per_word = round(sum(word_lens) / len(words))\n",
    "char_per_sent_1 = round(sum(word_lens) / len(sents))\n",
    "char_per_sent_2 = round(sum(chars_in_sents) / len(sents))\n",
    "    \n",
    "#ASK ABOUT THIS, summation of len of words is not equal to their computation of the characters\n",
    "print('chars length: ', len(chars))\n",
    "\n",
    "print('\\nchars length computed from chars per word: ', sum(word_lens))\n",
    "print('chars_per_sent_1 computed from word_lens ', char_per_sent_1)\n",
    "\n",
    "print('\\nchars length computed from chars per sent: ', sum(chars_in_sents))\n",
    "print('chars_per_sent_2 computed from chars_in_sent ', char_per_sent_2)\n",
    "\n"
   ]
  },
  {
   "cell_type": "code",
   "execution_count": null,
   "id": "b3078234",
   "metadata": {},
   "outputs": [],
   "source": []
  }
 ],
 "metadata": {
  "kernelspec": {
   "display_name": "nlu",
   "language": "python",
   "name": "nlu_venv"
  },
  "language_info": {
   "codemirror_mode": {
    "name": "ipython",
    "version": 3
   },
   "file_extension": ".py",
   "mimetype": "text/x-python",
   "name": "python",
   "nbconvert_exporter": "python",
   "pygments_lexer": "ipython3",
   "version": "3.10.6"
  }
 },
 "nbformat": 4,
 "nbformat_minor": 5
}
